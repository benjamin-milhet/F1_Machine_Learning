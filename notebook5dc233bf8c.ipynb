{
 "cells": [
  {
   "cell_type": "code",
   "execution_count": 1,
   "id": "7aeac7da",
   "metadata": {
    "_cell_guid": "b1076dfc-b9ad-4769-8c92-a6c4dae69d19",
    "_uuid": "8f2839f25d086af736a60e9eeb907d3b93b6e0e5",
    "execution": {
     "iopub.execute_input": "2022-11-26T18:37:15.480250Z",
     "iopub.status.busy": "2022-11-26T18:37:15.479091Z",
     "iopub.status.idle": "2022-11-26T18:37:15.509107Z",
     "shell.execute_reply": "2022-11-26T18:37:15.507246Z"
    },
    "papermill": {
     "duration": 0.040129,
     "end_time": "2022-11-26T18:37:15.513280",
     "exception": false,
     "start_time": "2022-11-26T18:37:15.473151",
     "status": "completed"
    },
    "tags": []
   },
   "outputs": [
    {
     "name": "stdout",
     "output_type": "stream",
     "text": [
      "/kaggle/input/formula-one-racing-a-comprehensive-data-analysis/races.csv\n",
      "/kaggle/input/formula-one-racing-a-comprehensive-data-analysis/constructor_results.csv\n",
      "/kaggle/input/formula-one-racing-a-comprehensive-data-analysis/drivers.csv\n",
      "/kaggle/input/formula-one-racing-a-comprehensive-data-analysis/constructors.csv\n",
      "/kaggle/input/formula-one-racing-a-comprehensive-data-analysis/lap_times.csv\n",
      "/kaggle/input/formula-one-racing-a-comprehensive-data-analysis/status.csv\n",
      "/kaggle/input/formula-one-racing-a-comprehensive-data-analysis/driver_standings.csv\n",
      "/kaggle/input/formula-one-racing-a-comprehensive-data-analysis/seasons.csv\n",
      "/kaggle/input/formula-one-racing-a-comprehensive-data-analysis/pit_stops.csv\n",
      "/kaggle/input/formula-one-racing-a-comprehensive-data-analysis/sprint_results.csv\n",
      "/kaggle/input/formula-one-racing-a-comprehensive-data-analysis/constructor_standings.csv\n",
      "/kaggle/input/formula-one-racing-a-comprehensive-data-analysis/results.csv\n",
      "/kaggle/input/formula-one-racing-a-comprehensive-data-analysis/circuits.csv\n",
      "/kaggle/input/formula-one-racing-a-comprehensive-data-analysis/qualifying.csv\n"
     ]
    }
   ],
   "source": [
    "# This Python 3 environment comes with many helpful analytics libraries installed\n",
    "# It is defined by the kaggle/python Docker image: https://github.com/kaggle/docker-python\n",
    "# For example, here's several helpful packages to load\n",
    "\n",
    "import numpy as np # linear algebra\n",
    "import pandas as pd # data processing, CSV file I/O (e.g. pd.read_csv)\n",
    "\n",
    "# Input data files are available in the read-only \"../input/\" directory\n",
    "# For example, running this (by clicking run or pressing Shift+Enter) will list all files under the input directory\n",
    "\n",
    "import os\n",
    "for dirname, _, filenames in os.walk('/kaggle/input'):\n",
    "    for filename in filenames:\n",
    "        print(os.path.join(dirname, filename))\n",
    "\n",
    "# You can write up to 20GB to the current directory (/kaggle/working/) that gets preserved as output when you create a version using \"Save & Run All\" \n",
    "# You can also write temporary files to /kaggle/temp/, but they won't be saved outside of the current session\n",
    "\n"
   ]
  }
 ],
 "metadata": {
  "kernelspec": {
   "display_name": "Python 3",
   "language": "python",
   "name": "python3"
  },
  "language_info": {
   "codemirror_mode": {
    "name": "ipython",
    "version": 3
   },
   "file_extension": ".py",
   "mimetype": "text/x-python",
   "name": "python",
   "nbconvert_exporter": "python",
   "pygments_lexer": "ipython3",
   "version": "3.7.12"
  },
  "papermill": {
   "default_parameters": {},
   "duration": 9.949916,
   "end_time": "2022-11-26T18:37:16.441032",
   "environment_variables": {},
   "exception": null,
   "input_path": "__notebook__.ipynb",
   "output_path": "__notebook__.ipynb",
   "parameters": {},
   "start_time": "2022-11-26T18:37:06.491116",
   "version": "2.3.4"
  }
 },
 "nbformat": 4,
 "nbformat_minor": 5
}
