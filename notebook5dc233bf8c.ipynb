{
 "cells": [
  {
   "cell_type": "code",
   "execution_count": 1,
   "id": "4be667af",
   "metadata": {
    "_cell_guid": "b1076dfc-b9ad-4769-8c92-a6c4dae69d19",
    "_uuid": "8f2839f25d086af736a60e9eeb907d3b93b6e0e5",
    "execution": {
     "iopub.execute_input": "2022-12-01T21:27:47.105519Z",
     "iopub.status.busy": "2022-12-01T21:27:47.104979Z",
     "iopub.status.idle": "2022-12-01T21:27:48.263562Z",
     "shell.execute_reply": "2022-12-01T21:27:48.261001Z"
    },
    "papermill": {
     "duration": 1.166842,
     "end_time": "2022-12-01T21:27:48.266558",
     "exception": false,
     "start_time": "2022-12-01T21:27:47.099716",
     "status": "completed"
    },
    "tags": []
   },
   "outputs": [
    {
     "name": "stdout",
     "output_type": "stream",
     "text": [
      "/kaggle/input/formula-one-racing-a-comprehensive-data-analysis/races.csv\n",
      "/kaggle/input/formula-one-racing-a-comprehensive-data-analysis/constructor_results.csv\n",
      "/kaggle/input/formula-one-racing-a-comprehensive-data-analysis/drivers.csv\n",
      "/kaggle/input/formula-one-racing-a-comprehensive-data-analysis/constructors.csv\n",
      "/kaggle/input/formula-one-racing-a-comprehensive-data-analysis/lap_times.csv\n",
      "/kaggle/input/formula-one-racing-a-comprehensive-data-analysis/status.csv\n",
      "/kaggle/input/formula-one-racing-a-comprehensive-data-analysis/driver_standings.csv\n",
      "/kaggle/input/formula-one-racing-a-comprehensive-data-analysis/seasons.csv\n",
      "/kaggle/input/formula-one-racing-a-comprehensive-data-analysis/pit_stops.csv\n",
      "/kaggle/input/formula-one-racing-a-comprehensive-data-analysis/sprint_results.csv\n",
      "/kaggle/input/formula-one-racing-a-comprehensive-data-analysis/constructor_standings.csv\n",
      "/kaggle/input/formula-one-racing-a-comprehensive-data-analysis/results.csv\n",
      "/kaggle/input/formula-one-racing-a-comprehensive-data-analysis/circuits.csv\n",
      "/kaggle/input/formula-one-racing-a-comprehensive-data-analysis/qualifying.csv\n"
     ]
    }
   ],
   "source": [
    "# This Python 3 environment comes with many helpful analytics libraries installed\n",
    "# It is defined by the kaggle/python Docker image: https://github.com/kaggle/docker-python\n",
    "# For example, here's several helpful packages to load\n",
    "\n",
    "import numpy as np # linear algebra\n",
    "import pandas as pd # data processing, CSV file I/O (e.g. pd.read_csv)\n",
    "import matplotlib.pyplot as plt\n",
    "from sklearn.model_selection import train_test_split\n",
    "from sklearn.linear_model import LinearRegression\n",
    "\n",
    "\n",
    "# Input data files are available in the read-only \"../input/\" directory\n",
    "# For example, running this (by clicking run or pressing Shift+Enter) will list all files under the input directory\n",
    "\n",
    "import os\n",
    "for dirname, _, filenames in os.walk('/kaggle/input'):\n",
    "    for filename in filenames:\n",
    "        print(os.path.join(dirname, filename))\n",
    "\n",
    "# You can write up to 20GB to the current directory (/kaggle/working/) that gets preserved as output when you create a version using \"Save & Run All\" \n",
    "# You can also write temporary files to /kaggle/temp/, but they won't be saved outside of the current session\n",
    "\n",
    "\n",
    "\n"
   ]
  },
  {
   "cell_type": "code",
   "execution_count": 2,
   "id": "d74adf2d",
   "metadata": {
    "execution": {
     "iopub.execute_input": "2022-12-01T21:27:48.274420Z",
     "iopub.status.busy": "2022-12-01T21:27:48.274090Z",
     "iopub.status.idle": "2022-12-01T21:27:48.616453Z",
     "shell.execute_reply": "2022-12-01T21:27:48.615240Z"
    },
    "papermill": {
     "duration": 0.348314,
     "end_time": "2022-12-01T21:27:48.618428",
     "exception": false,
     "start_time": "2022-12-01T21:27:48.270114",
     "status": "completed"
    },
    "tags": []
   },
   "outputs": [
    {
     "data": {
      "text/plain": [
       "<matplotlib.collections.PathCollection at 0x7f3b304dae90>"
      ]
     },
     "execution_count": 2,
     "metadata": {},
     "output_type": "execute_result"
    },
    {
     "data": {
      "image/png": "[encoded data removed]",
      "text/plain": [
       "<Figure size 432x288 with 1 Axes>"
      ]
     },
     "metadata": {
      "needs_background": "light"
     },
     "output_type": "display_data"
    }
   ],
   "source": [
    "dataResult = pd.read_csv(\"/kaggle/input/formula-one-racing-a-comprehensive-data-analysis/results.csv\")\n",
    "#print(dataResult)\n",
    "plt.scatter(dataResult['driverId'], dataResult['points'])\n"
   ]
  },
  {
   "cell_type": "code",
   "execution_count": 3,
   "id": "fc5a7af7",
   "metadata": {
    "execution": {
     "iopub.execute_input": "2022-12-01T21:27:48.627699Z",
     "iopub.status.busy": "2022-12-01T21:27:48.626176Z",
     "iopub.status.idle": "2022-12-01T21:27:48.775990Z",
     "shell.execute_reply": "2022-12-01T21:27:48.775286Z"
    },
    "papermill": {
     "duration": 0.156582,
     "end_time": "2022-12-01T21:27:48.778525",
     "exception": false,
     "start_time": "2022-12-01T21:27:48.621943",
     "status": "completed"
    },
    "tags": []
   },
   "outputs": [
    {
     "data": {
      "text/plain": [
       "<matplotlib.collections.PathCollection at 0x7f3b303e7a90>"
      ]
     },
     "execution_count": 3,
     "metadata": {},
     "output_type": "execute_result"
    },
    {
     "data": {
      "image/png": "[encoded data removed]",
      "text/plain": [
       "<Figure size 432x288 with 1 Axes>"
      ]
     },
     "metadata": {
      "needs_background": "light"
     },
     "output_type": "display_data"
    }
   ],
   "source": [
    "dataResultVettel = dataResult[dataResult['driverId'] == 20] # On choisit le pilote Vettel\n",
    "plt.scatter(dataResultVettel['raceId'], dataResultVettel['points'])\n"
   ]
  },
  {
   "cell_type": "code",
   "execution_count": 4,
   "id": "3b2cb8ad",
   "metadata": {
    "execution": {
     "iopub.execute_input": "2022-12-01T21:27:48.787944Z",
     "iopub.status.busy": "2022-12-01T21:27:48.787036Z",
     "iopub.status.idle": "2022-12-01T21:27:48.931142Z",
     "shell.execute_reply": "2022-12-01T21:27:48.930342Z"
    },
    "papermill": {
     "duration": 0.150678,
     "end_time": "2022-12-01T21:27:48.933055",
     "exception": false,
     "start_time": "2022-12-01T21:27:48.782377",
     "status": "completed"
    },
    "tags": []
   },
   "outputs": [
    {
     "data": {
      "text/plain": [
       "<matplotlib.collections.PathCollection at 0x7f3b3033add0>"
      ]
     },
     "execution_count": 4,
     "metadata": {},
     "output_type": "execute_result"
    },
    {
     "data": {
      "image/png": "[encoded data removed]",
      "text/plain": [
       "<Figure size 432x288 with 1 Axes>"
      ]
     },
     "metadata": {
      "needs_background": "light"
     },
     "output_type": "display_data"
    }
   ],
   "source": [
    "dataResultLeclerc = dataResult[dataResult['driverId'] == 844] # On choisit le pilote Leclerc\n",
    "plt.scatter(dataResultLeclerc['raceId'], dataResultLeclerc['points'])"
   ]
  },
  {
   "cell_type": "code",
   "execution_count": 5,
   "id": "beaa0e3b",
   "metadata": {
    "execution": {
     "iopub.execute_input": "2022-12-01T21:27:48.942546Z",
     "iopub.status.busy": "2022-12-01T21:27:48.941976Z",
     "iopub.status.idle": "2022-12-01T21:27:49.140679Z",
     "shell.execute_reply": "2022-12-01T21:27:49.139861Z"
    },
    "papermill": {
     "duration": 0.205787,
     "end_time": "2022-12-01T21:27:49.142708",
     "exception": false,
     "start_time": "2022-12-01T21:27:48.936921",
     "status": "completed"
    },
    "tags": []
   },
   "outputs": [
    {
     "data": {
      "text/plain": [
       "<matplotlib.collections.PathCollection at 0x7f3b302650d0>"
      ]
     },
     "execution_count": 5,
     "metadata": {},
     "output_type": "execute_result"
    },
    {
     "data": {
      "image/png": "[encoded data removed]",
      "text/plain": [
       "<Figure size 432x288 with 1 Axes>"
      ]
     },
     "metadata": {
      "needs_background": "light"
     },
     "output_type": "display_data"
    }
   ],
   "source": [
    "dataResultLeclerc = dataResult[dataResult['driverId'] == 844] # On choisit le pilote Leclerc\n",
    "dataRace = pd.read_csv(\"/kaggle/input/formula-one-racing-a-comprehensive-data-analysis/races.csv\")\n",
    "dataResultRaceLeclerc2020 = pd.merge(dataResultLeclerc,dataRace[['raceId', 'name', 'year', 'circuitId']],how='left',on='raceId')\n",
    "dataResultRaceLeclerc2020 = dataResultRaceLeclerc2020[dataResultRaceLeclerc2020['year'] == 2020] # On choisit la saison 2020\n",
    "\n",
    "plt.scatter(dataResultRaceLeclerc2020['raceId'], dataResultRaceLeclerc2020['points'])"
   ]
  },
  {
   "cell_type": "code",
   "execution_count": 6,
   "id": "54eea2ff",
   "metadata": {
    "execution": {
     "iopub.execute_input": "2022-12-01T21:27:49.152803Z",
     "iopub.status.busy": "2022-12-01T21:27:49.152254Z",
     "iopub.status.idle": "2022-12-01T21:27:49.201292Z",
     "shell.execute_reply": "2022-12-01T21:27:49.200228Z"
    },
    "papermill": {
     "duration": 0.05725,
     "end_time": "2022-12-01T21:27:49.204082",
     "exception": false,
     "start_time": "2022-12-01T21:27:49.146832",
     "status": "completed"
    },
    "tags": []
   },
   "outputs": [
    {
     "name": "stdout",
     "output_type": "stream",
     "text": [
      "       driverId  points\n",
      "0             1    10.0\n",
      "1             2     8.0\n",
      "2             3     6.0\n",
      "3             4     5.0\n",
      "4             5     4.0\n",
      "...         ...     ...\n",
      "25655       825     0.0\n",
      "25656       848     0.0\n",
      "25657       849     0.0\n",
      "25658       852     0.0\n",
      "25659       822     0.0\n",
      "\n",
      "[25660 rows x 2 columns]\n",
      "X_train shape : (21811, 1)\n",
      "y_train shape : (21811,)\n",
      "X_test shape : (3849, 1)\n",
      "y_test shape : (3849,)\n",
      "[[385]\n",
      " [ 18]\n",
      " [ 50]\n",
      " ...\n",
      " [475]\n",
      " [118]\n",
      " [102]]\n"
     ]
    }
   ],
   "source": [
    "#Regression linéaire simple\n",
    "dataResultRegressionSimple = dataResult\n",
    "dataResultRegressionSimple = dataResultRegressionSimple.replace(['\\\\N', 'F', 'R'], [0, 0, 0])\n",
    "dataTemp = dataResultRegressionSimple.get(['driverId', 'points'])\n",
    "\n",
    "print(dataTemp)\n",
    "\n",
    "X = dataTemp.iloc[:,:-1].values\n",
    "Y = dataTemp.iloc[:,-1].values\n",
    "\n",
    "X_train, X_test, y_train, y_test = train_test_split(X, Y, test_size = 0.15)\n",
    "print(\"X_train shape : {}\".format(X_train.shape))\n",
    "print(\"y_train shape : {}\".format(y_train.shape))\n",
    "print(\"X_test shape : {}\".format(X_test.shape))\n",
    "print(\"y_test shape : {}\".format(y_test.shape))\n",
    "\n",
    "print(X_train)\n",
    "\n"
   ]
  },
  {
   "cell_type": "code",
   "execution_count": 7,
   "id": "c121c78e",
   "metadata": {
    "execution": {
     "iopub.execute_input": "2022-12-01T21:27:49.214405Z",
     "iopub.status.busy": "2022-12-01T21:27:49.213969Z",
     "iopub.status.idle": "2022-12-01T21:27:49.240631Z",
     "shell.execute_reply": "2022-12-01T21:27:49.239076Z"
    },
    "papermill": {
     "duration": 0.034583,
     "end_time": "2022-12-01T21:27:49.242926",
     "exception": false,
     "start_time": "2022-12-01T21:27:49.208343",
     "status": "completed"
    },
    "tags": []
   },
   "outputs": [
    {
     "data": {
      "text/plain": [
       "LinearRegression()"
      ]
     },
     "execution_count": 7,
     "metadata": {},
     "output_type": "execute_result"
    }
   ],
   "source": [
    "regression = LinearRegression()\n",
    "regression.fit(X_train, y_train)"
   ]
  },
  {
   "cell_type": "code",
   "execution_count": 8,
   "id": "099a9ce3",
   "metadata": {
    "execution": {
     "iopub.execute_input": "2022-12-01T21:27:49.253084Z",
     "iopub.status.busy": "2022-12-01T21:27:49.252634Z",
     "iopub.status.idle": "2022-12-01T21:27:49.424171Z",
     "shell.execute_reply": "2022-12-01T21:27:49.423129Z"
    },
    "papermill": {
     "duration": 0.179328,
     "end_time": "2022-12-01T21:27:49.426673",
     "exception": false,
     "start_time": "2022-12-01T21:27:49.247345",
     "status": "completed"
    },
    "tags": []
   },
   "outputs": [
    {
     "data": {
      "text/plain": [
       "[<matplotlib.lines.Line2D at 0x7f3b3012cb90>]"
      ]
     },
     "execution_count": 8,
     "metadata": {},
     "output_type": "execute_result"
    },
    {
     "data": {
      "image/png": "[encoded data removed]",
      "text/plain": [
       "<Figure size 432x288 with 1 Axes>"
      ]
     },
     "metadata": {
      "needs_background": "light"
     },
     "output_type": "display_data"
    }
   ],
   "source": [
    "#plt.scatter(X_train, y_train)\n",
    "plt.scatter(X_test, y_test)\n",
    "plt.plot(X_train, regression.predict(X_train), color='red')"
   ]
  },
  {
   "cell_type": "code",
   "execution_count": 9,
   "id": "cc06e999",
   "metadata": {
    "execution": {
     "iopub.execute_input": "2022-12-01T21:27:49.437728Z",
     "iopub.status.busy": "2022-12-01T21:27:49.437316Z",
     "iopub.status.idle": "2022-12-01T21:27:49.711204Z",
     "shell.execute_reply": "2022-12-01T21:27:49.710292Z"
    },
    "papermill": {
     "duration": 0.282572,
     "end_time": "2022-12-01T21:27:49.714151",
     "exception": false,
     "start_time": "2022-12-01T21:27:49.431579",
     "status": "completed"
    },
    "tags": []
   },
   "outputs": [
    {
     "data": {
      "text/plain": [
       "<matplotlib.collections.PathCollection at 0x7f3b300bbd50>"
      ]
     },
     "execution_count": 9,
     "metadata": {},
     "output_type": "execute_result"
    },
    {
     "data": {
      "image/png": "[encoded data removed]",
      "text/plain": [
       "<Figure size 432x288 with 1 Axes>"
      ]
     },
     "metadata": {
      "needs_background": "light"
     },
     "output_type": "display_data"
    }
   ],
   "source": [
    "#Analyse des points gagnée en fonction de leur position de départ\n",
    "plt.scatter(dataResult['points'], dataResult['positionOrder'])\n",
    "plt.scatter(dataResultVettel['points'], dataResultVettel['positionOrder'])#vert\n",
    "plt.scatter(dataResultLeclerc['points'], dataResultLeclerc['positionOrder'])#orange\n",
    "plt.scatter(dataResultRaceLeclerc2020['points'], dataResultRaceLeclerc2020['positionOrder'])#rouge\n"
   ]
  }
 ],
 "metadata": {
  "kernelspec": {
   "display_name": "Python 3",
   "language": "python",
   "name": "python3"
  },
  "language_info": {
   "codemirror_mode": {
    "name": "ipython",
    "version": 3
   },
   "file_extension": ".py",
   "mimetype": "text/x-python",
   "name": "python",
   "nbconvert_exporter": "python",
   "pygments_lexer": "ipython3",
   "version": "3.7.12"
  },
  "papermill": {
   "default_parameters": {},
   "duration": 11.273823,
   "end_time": "2022-12-01T21:27:50.540678",
   "environment_variables": {},
   "exception": null,
   "input_path": "__notebook__.ipynb",
   "output_path": "__notebook__.ipynb",
   "parameters": {},
   "start_time": "2022-12-01T21:27:39.266855",
   "version": "2.3.4"
  }
 },
 "nbformat": 4,
 "nbformat_minor": 5
}
