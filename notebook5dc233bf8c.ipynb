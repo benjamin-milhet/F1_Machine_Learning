{
 "cells": [
  {
   "cell_type": "code",
   "execution_count": 1,
   "id": "7a9f974d",
   "metadata": {
    "_cell_guid": "b1076dfc-b9ad-4769-8c92-a6c4dae69d19",
    "_uuid": "8f2839f25d086af736a60e9eeb907d3b93b6e0e5",
    "execution": {
     "iopub.execute_input": "2022-11-26T22:00:35.326539Z",
     "iopub.status.busy": "2022-11-26T22:00:35.325639Z",
     "iopub.status.idle": "2022-11-26T22:00:36.646340Z",
     "shell.execute_reply": "2022-11-26T22:00:36.644599Z"
    },
    "papermill": {
     "duration": 1.330671,
     "end_time": "2022-11-26T22:00:36.650206",
     "exception": false,
     "start_time": "2022-11-26T22:00:35.319535",
     "status": "completed"
    },
    "tags": [],
    "pycharm": {
     "name": "#%%\n"
    }
   },
   "outputs": [
    {
     "name": "stdout",
     "output_type": "stream",
     "text": [
      "/kaggle/input/formula-one-racing-a-comprehensive-data-analysis/races.csv\n",
      "/kaggle/input/formula-one-racing-a-comprehensive-data-analysis/constructor_results.csv\n",
      "/kaggle/input/formula-one-racing-a-comprehensive-data-analysis/drivers.csv\n",
      "/kaggle/input/formula-one-racing-a-comprehensive-data-analysis/constructors.csv\n",
      "/kaggle/input/formula-one-racing-a-comprehensive-data-analysis/lap_times.csv\n",
      "/kaggle/input/formula-one-racing-a-comprehensive-data-analysis/status.csv\n",
      "/kaggle/input/formula-one-racing-a-comprehensive-data-analysis/driver_standings.csv\n",
      "/kaggle/input/formula-one-racing-a-comprehensive-data-analysis/seasons.csv\n",
      "/kaggle/input/formula-one-racing-a-comprehensive-data-analysis/pit_stops.csv\n",
      "/kaggle/input/formula-one-racing-a-comprehensive-data-analysis/sprint_results.csv\n",
      "/kaggle/input/formula-one-racing-a-comprehensive-data-analysis/constructor_standings.csv\n",
      "/kaggle/input/formula-one-racing-a-comprehensive-data-analysis/results.csv\n",
      "/kaggle/input/formula-one-racing-a-comprehensive-data-analysis/circuits.csv\n",
      "/kaggle/input/formula-one-racing-a-comprehensive-data-analysis/qualifying.csv\n"
     ]
    }
   ],
   "source": [
    "# This Python 3 environment comes with many helpful analytics libraries installed\n",
    "# It is defined by the kaggle/python Docker image: https://github.com/kaggle/docker-python\n",
    "# For example, here's several helpful packages to load\n",
    "\n",
    "import numpy as np # linear algebra\n",
    "import pandas as pd # data processing, CSV file I/O (e.g. pd.read_csv)\n",
    "import matplotlib.pyplot as plt\n",
    "from sklearn.model_selection import train_test_split\n",
    "from sklearn.linear_model import LinearRegression\n",
    "\n",
    "\n",
    "# Input data files are available in the read-only \"../input/\" directory\n",
    "# For example, running this (by clicking run or pressing Shift+Enter) will list all files under the input directory\n",
    "\n",
    "import os\n",
    "for dirname, _, filenames in os.walk('/kaggle/input'):\n",
    "    for filename in filenames:\n",
    "        print(os.path.join(dirname, filename))\n",
    "\n",
    "# You can write up to 20GB to the current directory (/kaggle/working/) that gets preserved as output when you create a version using \"Save & Run All\" \n",
    "# You can also write temporary files to /kaggle/temp/, but they won't be saved outside of the current session\n",
    "\n",
    "\n",
    "\n"
   ]
  },
  {
   "cell_type": "code",
   "execution_count": 2,
   "id": "b0671279",
   "metadata": {
    "execution": {
     "iopub.execute_input": "2022-11-26T22:00:36.657879Z",
     "iopub.status.busy": "2022-11-26T22:00:36.657487Z",
     "iopub.status.idle": "2022-11-26T22:00:37.142528Z",
     "shell.execute_reply": "2022-11-26T22:00:37.141164Z"
    },
    "papermill": {
     "duration": 0.492027,
     "end_time": "2022-11-26T22:00:37.145393",
     "exception": false,
     "start_time": "2022-11-26T22:00:36.653366",
     "status": "completed"
    },
    "tags": [],
    "pycharm": {
     "name": "#%%\n"
    }
   },
   "outputs": [
    {
     "data": {
      "text/plain": [
       "<matplotlib.collections.PathCollection at 0x7f365527f950>"
      ]
     },
     "execution_count": 2,
     "metadata": {},
     "output_type": "execute_result"
    },
    {
     "data": {
      "image/png": "[encoded data removed]",
      "text/plain": [
       "<Figure size 432x288 with 1 Axes>"
      ]
     },
     "metadata": {
      "needs_background": "light"
     },
     "output_type": "display_data"
    }
   ],
   "source": [
    "dataResult = pd.read_csv(\"/kaggle/input/formula-one-racing-a-comprehensive-data-analysis/results.csv\")\n",
    "#print(dataResult)\n",
    "plt.scatter(dataResult['driverId'], dataResult['points'])\n"
   ]
  },
  {
   "cell_type": "code",
   "execution_count": 3,
   "id": "cfab9ff8",
   "metadata": {
    "execution": {
     "iopub.execute_input": "2022-11-26T22:00:37.157724Z",
     "iopub.status.busy": "2022-11-26T22:00:37.155541Z",
     "iopub.status.idle": "2022-11-26T22:00:37.389249Z",
     "shell.execute_reply": "2022-11-26T22:00:37.387725Z"
    },
    "papermill": {
     "duration": 0.242773,
     "end_time": "2022-11-26T22:00:37.392230",
     "exception": false,
     "start_time": "2022-11-26T22:00:37.149457",
     "status": "completed"
    },
    "tags": [],
    "pycharm": {
     "name": "#%%\n"
    }
   },
   "outputs": [
    {
     "data": {
      "text/plain": [
       "<matplotlib.collections.PathCollection at 0x7f3655136310>"
      ]
     },
     "execution_count": 3,
     "metadata": {},
     "output_type": "execute_result"
    },
    {
     "data": {
      "image/png": "[encoded data removed]",
      "text/plain": [
       "<Figure size 432x288 with 1 Axes>"
      ]
     },
     "metadata": {
      "needs_background": "light"
     },
     "output_type": "display_data"
    }
   ],
   "source": [
    "dataResultVettel = dataResult[dataResult['driverId'] == 20] # On choisit le pilote Vettel\n",
    "plt.scatter(dataResultVettel['raceId'], dataResultVettel['points'])\n"
   ]
  },
  {
   "cell_type": "code",
   "execution_count": 4,
   "id": "5662659c",
   "metadata": {
    "execution": {
     "iopub.execute_input": "2022-11-26T22:00:37.401715Z",
     "iopub.status.busy": "2022-11-26T22:00:37.401227Z",
     "iopub.status.idle": "2022-11-26T22:00:37.624142Z",
     "shell.execute_reply": "2022-11-26T22:00:37.622868Z"
    },
    "papermill": {
     "duration": 0.230678,
     "end_time": "2022-11-26T22:00:37.626606",
     "exception": false,
     "start_time": "2022-11-26T22:00:37.395928",
     "status": "completed"
    },
    "tags": [],
    "pycharm": {
     "name": "#%%\n"
    }
   },
   "outputs": [
    {
     "data": {
      "text/plain": [
       "<matplotlib.collections.PathCollection at 0x7f36550cb390>"
      ]
     },
     "execution_count": 4,
     "metadata": {},
     "output_type": "execute_result"
    },
    {
     "data": {
      "image/png": "[encoded data removed]",
      "text/plain": [
       "<Figure size 432x288 with 1 Axes>"
      ]
     },
     "metadata": {
      "needs_background": "light"
     },
     "output_type": "display_data"
    }
   ],
   "source": [
    "dataResultLeclerc = dataResult[dataResult['driverId'] == 844] # On choisit le pilote Leclerc\n",
    "plt.scatter(dataResultLeclerc['raceId'], dataResultLeclerc['points'])"
   ]
  },
  {
   "cell_type": "code",
   "execution_count": 5,
   "id": "49191f83",
   "metadata": {
    "execution": {
     "iopub.execute_input": "2022-11-26T22:00:37.637125Z",
     "iopub.status.busy": "2022-11-26T22:00:37.636574Z",
     "iopub.status.idle": "2022-11-26T22:00:37.917254Z",
     "shell.execute_reply": "2022-11-26T22:00:37.916120Z"
    },
    "papermill": {
     "duration": 0.289127,
     "end_time": "2022-11-26T22:00:37.919713",
     "exception": false,
     "start_time": "2022-11-26T22:00:37.630586",
     "status": "completed"
    },
    "tags": [],
    "pycharm": {
     "name": "#%%\n"
    }
   },
   "outputs": [
    {
     "data": {
      "text/plain": [
       "<matplotlib.collections.PathCollection at 0x7f3655011390>"
      ]
     },
     "execution_count": 5,
     "metadata": {},
     "output_type": "execute_result"
    },
    {
     "data": {
      "image/png": "[encoded data removed]",
      "text/plain": [
       "<Figure size 432x288 with 1 Axes>"
      ]
     },
     "metadata": {
      "needs_background": "light"
     },
     "output_type": "display_data"
    }
   ],
   "source": [
    "dataResultLeclerc = dataResult[dataResult['driverId'] == 844] # On choisit le pilote Leclerc\n",
    "dataRace = pd.read_csv(\"/kaggle/input/formula-one-racing-a-comprehensive-data-analysis/races.csv\")\n",
    "dataResultRaceLeclerc2020 = pd.merge(dataResultLeclerc,dataRace[['raceId', 'name', 'year', 'circuitId']],how='left',on='raceId')\n",
    "dataResultRaceLeclerc2020 = dataResultRaceLeclerc2020[dataResultRaceLeclerc2020['year'] == 2020] # On choisit la saison 2020\n",
    "\n",
    "plt.scatter(dataResultRaceLeclerc2020['raceId'], dataResultRaceLeclerc2020['points'])"
   ]
  },
  {
   "cell_type": "code",
   "execution_count": null,
   "id": "25258cad",
   "metadata": {
    "papermill": {
     "duration": 0.003689,
     "end_time": "2022-11-26T22:00:37.927552",
     "exception": false,
     "start_time": "2022-11-26T22:00:37.923863",
     "status": "completed"
    },
    "tags": [],
    "pycharm": {
     "name": "#%%\n"
    }
   },
   "outputs": [],
   "source": []
  }
 ],
 "metadata": {
  "kernelspec": {
   "display_name": "Python 3",
   "language": "python",
   "name": "python3"
  },
  "language_info": {
   "codemirror_mode": {
    "name": "ipython",
    "version": 3
   },
   "file_extension": ".py",
   "mimetype": "text/x-python",
   "name": "python",
   "nbconvert_exporter": "python",
   "pygments_lexer": "ipython3",
   "version": "3.7.12"
  },
  "papermill": {
   "default_parameters": {},
   "duration": 12.514038,
   "end_time": "2022-11-26T22:00:38.757240",
   "environment_variables": {},
   "exception": null,
   "input_path": "__notebook__.ipynb",
   "output_path": "__notebook__.ipynb",
   "parameters": {},
   "start_time": "2022-11-26T22:00:26.243202",
   "version": "2.3.4"
  }
 },
 "nbformat": 4,
 "nbformat_minor": 5
}