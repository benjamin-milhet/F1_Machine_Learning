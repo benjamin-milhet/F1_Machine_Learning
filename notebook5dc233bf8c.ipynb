{
 "cells": [
  {
   "cell_type": "code",
   "execution_count": 1,
   "id": "ddfaea50",
   "metadata": {
    "_cell_guid": "b1076dfc-b9ad-4769-8c92-a6c4dae69d19",
    "_uuid": "8f2839f25d086af736a60e9eeb907d3b93b6e0e5",
    "execution": {
     "iopub.execute_input": "2022-11-29T16:27:04.286908Z",
     "iopub.status.busy": "2022-11-29T16:27:04.286076Z",
     "iopub.status.idle": "2022-11-29T16:27:05.317875Z",
     "shell.execute_reply": "2022-11-29T16:27:05.316594Z"
    },
    "papermill": {
     "duration": 1.038912,
     "end_time": "2022-11-29T16:27:05.320237",
     "exception": false,
     "start_time": "2022-11-29T16:27:04.281325",
     "status": "completed"
    },
    "tags": []
   },
   "outputs": [
    {
     "name": "stdout",
     "output_type": "stream",
     "text": [
      "/kaggle/input/formula-one-racing-a-comprehensive-data-analysis/races.csv\n",
      "/kaggle/input/formula-one-racing-a-comprehensive-data-analysis/constructor_results.csv\n",
      "/kaggle/input/formula-one-racing-a-comprehensive-data-analysis/drivers.csv\n",
      "/kaggle/input/formula-one-racing-a-comprehensive-data-analysis/constructors.csv\n",
      "/kaggle/input/formula-one-racing-a-comprehensive-data-analysis/lap_times.csv\n",
      "/kaggle/input/formula-one-racing-a-comprehensive-data-analysis/status.csv\n",
      "/kaggle/input/formula-one-racing-a-comprehensive-data-analysis/driver_standings.csv\n",
      "/kaggle/input/formula-one-racing-a-comprehensive-data-analysis/seasons.csv\n",
      "/kaggle/input/formula-one-racing-a-comprehensive-data-analysis/pit_stops.csv\n",
      "/kaggle/input/formula-one-racing-a-comprehensive-data-analysis/sprint_results.csv\n",
      "/kaggle/input/formula-one-racing-a-comprehensive-data-analysis/constructor_standings.csv\n",
      "/kaggle/input/formula-one-racing-a-comprehensive-data-analysis/results.csv\n",
      "/kaggle/input/formula-one-racing-a-comprehensive-data-analysis/circuits.csv\n",
      "/kaggle/input/formula-one-racing-a-comprehensive-data-analysis/qualifying.csv\n"
     ]
    }
   ],
   "source": [
    "# This Python 3 environment comes with many helpful analytics libraries installed\n",
    "# It is defined by the kaggle/python Docker image: https://github.com/kaggle/docker-python\n",
    "# For example, here's several helpful packages to load\n",
    "\n",
    "import numpy as np # linear algebra\n",
    "import pandas as pd # data processing, CSV file I/O (e.g. pd.read_csv)\n",
    "import matplotlib.pyplot as plt\n",
    "from sklearn.model_selection import train_test_split\n",
    "from sklearn.linear_model import LinearRegression\n",
    "\n",
    "\n",
    "# Input data files are available in the read-only \"../input/\" directory\n",
    "# For example, running this (by clicking run or pressing Shift+Enter) will list all files under the input directory\n",
    "\n",
    "import os\n",
    "for dirname, _, filenames in os.walk('/kaggle/input'):\n",
    "    for filename in filenames:\n",
    "        print(os.path.join(dirname, filename))\n",
    "\n",
    "# You can write up to 20GB to the current directory (/kaggle/working/) that gets preserved as output when you create a version using \"Save & Run All\" \n",
    "# You can also write temporary files to /kaggle/temp/, but they won't be saved outside of the current session\n",
    "\n",
    "\n",
    "\n"
   ]
  },
  {
   "cell_type": "code",
   "execution_count": 2,
   "id": "81d5c604",
   "metadata": {
    "execution": {
     "iopub.execute_input": "2022-11-29T16:27:05.327416Z",
     "iopub.status.busy": "2022-11-29T16:27:05.327018Z",
     "iopub.status.idle": "2022-11-29T16:27:05.652796Z",
     "shell.execute_reply": "2022-11-29T16:27:05.651524Z"
    },
    "papermill": {
     "duration": 0.331743,
     "end_time": "2022-11-29T16:27:05.654929",
     "exception": false,
     "start_time": "2022-11-29T16:27:05.323186",
     "status": "completed"
    },
    "tags": []
   },
   "outputs": [
    {
     "data": {
      "text/plain": [
       "<matplotlib.collections.PathCollection at 0x7fc1feb61f90>"
      ]
     },
     "execution_count": 2,
     "metadata": {},
     "output_type": "execute_result"
    },
    {
     "data": {
      "image/png": "[encoded data removed]",
      "text/plain": [
       "<Figure size 432x288 with 1 Axes>"
      ]
     },
     "metadata": {
      "needs_background": "light"
     },
     "output_type": "display_data"
    }
   ],
   "source": [
    "dataResult = pd.read_csv(\"/kaggle/input/formula-one-racing-a-comprehensive-data-analysis/results.csv\")\n",
    "#print(dataResult)\n",
    "plt.scatter(dataResult['driverId'], dataResult['points'])\n"
   ]
  },
  {
   "cell_type": "code",
   "execution_count": 3,
   "id": "835b4487",
   "metadata": {
    "execution": {
     "iopub.execute_input": "2022-11-29T16:27:05.662725Z",
     "iopub.status.busy": "2022-11-29T16:27:05.662337Z",
     "iopub.status.idle": "2022-11-29T16:27:05.812531Z",
     "shell.execute_reply": "2022-11-29T16:27:05.811803Z"
    },
    "papermill": {
     "duration": 0.156471,
     "end_time": "2022-11-29T16:27:05.814591",
     "exception": false,
     "start_time": "2022-11-29T16:27:05.658120",
     "status": "completed"
    },
    "tags": []
   },
   "outputs": [
    {
     "data": {
      "text/plain": [
       "<matplotlib.collections.PathCollection at 0x7fc1feb61cd0>"
      ]
     },
     "execution_count": 3,
     "metadata": {},
     "output_type": "execute_result"
    },
    {
     "data": {
      "image/png": "[encoded data removed]",
      "text/plain": [
       "<Figure size 432x288 with 1 Axes>"
      ]
     },
     "metadata": {
      "needs_background": "light"
     },
     "output_type": "display_data"
    }
   ],
   "source": [
    "dataResultVettel = dataResult[dataResult['driverId'] == 20] # On choisit le pilote Vettel\n",
    "plt.scatter(dataResultVettel['raceId'], dataResultVettel['points'])\n"
   ]
  },
  {
   "cell_type": "code",
   "execution_count": 4,
   "id": "18ddfe95",
   "metadata": {
    "execution": {
     "iopub.execute_input": "2022-11-29T16:27:05.822877Z",
     "iopub.status.busy": "2022-11-29T16:27:05.822372Z",
     "iopub.status.idle": "2022-11-29T16:27:05.961999Z",
     "shell.execute_reply": "2022-11-29T16:27:05.961244Z"
    },
    "papermill": {
     "duration": 0.145983,
     "end_time": "2022-11-29T16:27:05.964083",
     "exception": false,
     "start_time": "2022-11-29T16:27:05.818100",
     "status": "completed"
    },
    "tags": []
   },
   "outputs": [
    {
     "data": {
      "text/plain": [
       "<matplotlib.collections.PathCollection at 0x7fc1fea1a1d0>"
      ]
     },
     "execution_count": 4,
     "metadata": {},
     "output_type": "execute_result"
    },
    {
     "data": {
      "image/png": "[encoded data removed]",
      "text/plain": [
       "<Figure size 432x288 with 1 Axes>"
      ]
     },
     "metadata": {
      "needs_background": "light"
     },
     "output_type": "display_data"
    }
   ],
   "source": [
    "dataResultLeclerc = dataResult[dataResult['driverId'] == 844] # On choisit le pilote Leclerc\n",
    "plt.scatter(dataResultLeclerc['raceId'], dataResultLeclerc['points'])"
   ]
  },
  {
   "cell_type": "code",
   "execution_count": 5,
   "id": "64dd0444",
   "metadata": {
    "execution": {
     "iopub.execute_input": "2022-11-29T16:27:05.974114Z",
     "iopub.status.busy": "2022-11-29T16:27:05.973057Z",
     "iopub.status.idle": "2022-11-29T16:27:06.164349Z",
     "shell.execute_reply": "2022-11-29T16:27:06.163002Z"
    },
    "papermill": {
     "duration": 0.19948,
     "end_time": "2022-11-29T16:27:06.168059",
     "exception": false,
     "start_time": "2022-11-29T16:27:05.968579",
     "status": "completed"
    },
    "tags": []
   },
   "outputs": [
    {
     "data": {
      "text/plain": [
       "<matplotlib.collections.PathCollection at 0x7fc1fe8765d0>"
      ]
     },
     "execution_count": 5,
     "metadata": {},
     "output_type": "execute_result"
    },
    {
     "data": {
      "image/png": "[encoded data removed]",
      "text/plain": [
       "<Figure size 432x288 with 1 Axes>"
      ]
     },
     "metadata": {
      "needs_background": "light"
     },
     "output_type": "display_data"
    }
   ],
   "source": [
    "dataResultLeclerc = dataResult[dataResult['driverId'] == 844] # On choisit le pilote Leclerc\n",
    "dataRace = pd.read_csv(\"/kaggle/input/formula-one-racing-a-comprehensive-data-analysis/races.csv\")\n",
    "dataResultRaceLeclerc2020 = pd.merge(dataResultLeclerc,dataRace[['raceId', 'name', 'year', 'circuitId']],how='left',on='raceId')\n",
    "dataResultRaceLeclerc2020 = dataResultRaceLeclerc2020[dataResultRaceLeclerc2020['year'] == 2020] # On choisit la saison 2020\n",
    "\n",
    "plt.scatter(dataResultRaceLeclerc2020['raceId'], dataResultRaceLeclerc2020['points'])"
   ]
  },
  {
   "cell_type": "code",
   "execution_count": 6,
   "id": "880b9b56",
   "metadata": {
    "execution": {
     "iopub.execute_input": "2022-11-29T16:27:06.179976Z",
     "iopub.status.busy": "2022-11-29T16:27:06.179018Z",
     "iopub.status.idle": "2022-11-29T16:27:06.226384Z",
     "shell.execute_reply": "2022-11-29T16:27:06.225315Z"
    },
    "papermill": {
     "duration": 0.055643,
     "end_time": "2022-11-29T16:27:06.228516",
     "exception": false,
     "start_time": "2022-11-29T16:27:06.172873",
     "status": "completed"
    },
    "tags": []
   },
   "outputs": [
    {
     "name": "stdout",
     "output_type": "stream",
     "text": [
      "       driverId  points\n",
      "0             1    10.0\n",
      "1             2     8.0\n",
      "2             3     6.0\n",
      "3             4     5.0\n",
      "4             5     4.0\n",
      "...         ...     ...\n",
      "25655       825     0.0\n",
      "25656       848     0.0\n",
      "25657       849     0.0\n",
      "25658       852     0.0\n",
      "25659       822     0.0\n",
      "\n",
      "[25660 rows x 2 columns]\n",
      "X_train shape : (21811, 1)\n",
      "y_train shape : (21811,)\n",
      "X_test shape : (3849, 1)\n",
      "y_test shape : (3849,)\n",
      "[[140]\n",
      " [817]\n",
      " [ 44]\n",
      " ...\n",
      " [ 30]\n",
      " [176]\n",
      " [ 84]]\n"
     ]
    }
   ],
   "source": [
    "#Regression linéaire simple\n",
    "dataResultRegressionSimple = dataResult\n",
    "dataResultRegressionSimple = dataResultRegressionSimple.replace(['\\\\N', 'F', 'R'], [0, 0, 0])\n",
    "dataTemp = dataResultRegressionSimple.get(['driverId', 'points'])\n",
    "\n",
    "print(dataTemp)\n",
    "\n",
    "X = dataTemp.iloc[:,:-1].values\n",
    "Y = dataTemp.iloc[:,-1].values\n",
    "\n",
    "X_train, X_test, y_train, y_test = train_test_split(X, Y, test_size = 0.15)\n",
    "print(\"X_train shape : {}\".format(X_train.shape))\n",
    "print(\"y_train shape : {}\".format(y_train.shape))\n",
    "print(\"X_test shape : {}\".format(X_test.shape))\n",
    "print(\"y_test shape : {}\".format(y_test.shape))\n",
    "\n",
    "print(X_train)\n",
    "\n"
   ]
  },
  {
   "cell_type": "code",
   "execution_count": 7,
   "id": "8dc22232",
   "metadata": {
    "execution": {
     "iopub.execute_input": "2022-11-29T16:27:06.237954Z",
     "iopub.status.busy": "2022-11-29T16:27:06.237435Z",
     "iopub.status.idle": "2022-11-29T16:27:06.259869Z",
     "shell.execute_reply": "2022-11-29T16:27:06.259057Z"
    },
    "papermill": {
     "duration": 0.029188,
     "end_time": "2022-11-29T16:27:06.261941",
     "exception": false,
     "start_time": "2022-11-29T16:27:06.232753",
     "status": "completed"
    },
    "tags": []
   },
   "outputs": [
    {
     "data": {
      "text/plain": [
       "LinearRegression()"
      ]
     },
     "execution_count": 7,
     "metadata": {},
     "output_type": "execute_result"
    }
   ],
   "source": [
    "regression = LinearRegression()\n",
    "regression.fit(X_train, y_train)"
   ]
  },
  {
   "cell_type": "code",
   "execution_count": 8,
   "id": "6f044c07",
   "metadata": {
    "execution": {
     "iopub.execute_input": "2022-11-29T16:27:06.272028Z",
     "iopub.status.busy": "2022-11-29T16:27:06.271389Z",
     "iopub.status.idle": "2022-11-29T16:27:06.428803Z",
     "shell.execute_reply": "2022-11-29T16:27:06.427601Z"
    },
    "papermill": {
     "duration": 0.164674,
     "end_time": "2022-11-29T16:27:06.430810",
     "exception": false,
     "start_time": "2022-11-29T16:27:06.266136",
     "status": "completed"
    },
    "tags": []
   },
   "outputs": [
    {
     "data": {
      "text/plain": [
       "[<matplotlib.lines.Line2D at 0x7fc1fe7b5a50>]"
      ]
     },
     "execution_count": 8,
     "metadata": {},
     "output_type": "execute_result"
    },
    {
     "data": {
      "image/png": "[encoded data removed]",
      "text/plain": [
       "<Figure size 432x288 with 1 Axes>"
      ]
     },
     "metadata": {
      "needs_background": "light"
     },
     "output_type": "display_data"
    }
   ],
   "source": [
    "#plt.scatter(X_train, y_train)\n",
    "plt.scatter(X_test, y_test)\n",
    "plt.plot(X_train, regression.predict(X_train), color='red')"
   ]
  }
 ],
 "metadata": {
  "kernelspec": {
   "display_name": "Python 3",
   "language": "python",
   "name": "python3"
  },
  "language_info": {
   "codemirror_mode": {
    "name": "ipython",
    "version": 3
   },
   "file_extension": ".py",
   "mimetype": "text/x-python",
   "name": "python",
   "nbconvert_exporter": "python",
   "pygments_lexer": "ipython3",
   "version": "3.7.12"
  },
  "papermill": {
   "default_parameters": {},
   "duration": 9.930969,
   "end_time": "2022-11-29T16:27:07.157906",
   "environment_variables": {},
   "exception": null,
   "input_path": "__notebook__.ipynb",
   "output_path": "__notebook__.ipynb",
   "parameters": {},
   "start_time": "2022-11-29T16:26:57.226937",
   "version": "2.3.4"
  }
 },
 "nbformat": 4,
 "nbformat_minor": 5
}
